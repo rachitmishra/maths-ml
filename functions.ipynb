{
 "cells": [
  {
   "cell_type": "code",
   "execution_count": 3,
   "metadata": {},
   "outputs": [
    {
     "data": {
      "text/plain": [
       "5"
      ]
     },
     "execution_count": 3,
     "metadata": {},
     "output_type": "execute_result"
    }
   ],
   "source": [
    "# (R -> R) -> (R -> R)\n",
    "def addition(input):\n",
    "    return lambda x: input(x) + 1\n",
    "\n",
    "# R -> R\n",
    "def number(n):\n",
    "    return n*2\n",
    "\n",
    "addition(number)(2)"
   ]
  },
  {
   "cell_type": "code",
   "execution_count": 4,
   "metadata": {},
   "outputs": [
    {
     "data": {
      "text/plain": [
       "{-1, -0.25, 0, 0.25, 1}"
      ]
     },
     "execution_count": 4,
     "metadata": {},
     "output_type": "execute_result"
    }
   ],
   "source": [
    "filter_lambda = lambda x: pow(x, 4) - pow(x, 2) >= -0.1\n",
    "\n",
    "filter_lambda(1)\n",
    "\n",
    "def my_filter(my_set, filter_fun):\n",
    "    return { x for x in my_set if filter_fun(x) is True}\n",
    "\n",
    "my_filter({-1, -0.75, -0.5, -0.25, 0, 0.25, 0.5, 0.75, 1}, filter_lambda)"
   ]
  }
 ],
 "metadata": {
  "kernelspec": {
   "display_name": "Python 3",
   "language": "python",
   "name": "python3"
  },
  "language_info": {
   "codemirror_mode": {
    "name": "ipython",
    "version": 3
   },
   "file_extension": ".py",
   "mimetype": "text/x-python",
   "name": "python",
   "nbconvert_exporter": "python",
   "pygments_lexer": "ipython3",
   "version": "3.7.0"
  }
 },
 "nbformat": 4,
 "nbformat_minor": 2
}
